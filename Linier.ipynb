{
  "nbformat": 4,
  "nbformat_minor": 0,
  "metadata": {
    "colab": {
      "provenance": [],
      "authorship_tag": "ABX9TyPivzDxKXzpGAZnmp31CSen",
      "include_colab_link": true
    },
    "kernelspec": {
      "name": "python3",
      "display_name": "Python 3"
    },
    "language_info": {
      "name": "python"
    }
  },
  "cells": [
    {
      "cell_type": "markdown",
      "metadata": {
        "id": "view-in-github",
        "colab_type": "text"
      },
      "source": [
        "<a href=\"https://colab.research.google.com/github/Galuhsahfa/persaamaan_linier_linier/blob/main/Linier.ipynb\" target=\"_parent\"><img src=\"https://colab.research.google.com/assets/colab-badge.svg\" alt=\"Open In Colab\"/></a>"
      ]
    },
    {
      "cell_type": "code",
      "execution_count": 1,
      "metadata": {
        "colab": {
          "base_uri": "https://localhost:8080/"
        },
        "id": "bfYusBVkch25",
        "outputId": "0319ed9a-d5f1-4f3e-8bf3-41e4e04d3c23"
      },
      "outputs": [
        {
          "output_type": "stream",
          "name": "stdout",
          "text": [
            "solusi dari persamaan linier 2x + 4 = 8 yaitu, x = 2.0\n"
          ]
        }
      ],
      "source": [
        "# Persamaan Linier\n",
        "# 2x + 4 = 8\n",
        "def persamaan_linier(a, b, c):\n",
        "\n",
        "  x = (c - b) / a\n",
        "  return x\n",
        "\n",
        "\n",
        "if __name__ == \"__main__\":\n",
        "  a = 2\n",
        "  b = 4\n",
        "  c = 8\n",
        "  x = persamaan_linier(a, b, c)\n",
        "  print(f\"solusi dari persamaan linier 2x + 4 = 8 yaitu, x = {x}\")\n"
      ]
    }
  ]
}