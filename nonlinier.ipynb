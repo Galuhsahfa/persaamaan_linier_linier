{
  "nbformat": 4,
  "nbformat_minor": 0,
  "metadata": {
    "colab": {
      "provenance": [],
      "authorship_tag": "ABX9TyO/j9xZj7qGA1g9dqGHAmrc",
      "include_colab_link": true
    },
    "kernelspec": {
      "name": "python3",
      "display_name": "Python 3"
    },
    "language_info": {
      "name": "python"
    }
  },
  "cells": [
    {
      "cell_type": "markdown",
      "metadata": {
        "id": "view-in-github",
        "colab_type": "text"
      },
      "source": [
        "<a href=\"https://colab.research.google.com/github/Galuhsahfa/persaamaan_linier_linier/blob/main/nonlinier.ipynb\" target=\"_parent\"><img src=\"https://colab.research.google.com/assets/colab-badge.svg\" alt=\"Open In Colab\"/></a>"
      ]
    },
    {
      "cell_type": "code",
      "execution_count": 4,
      "metadata": {
        "colab": {
          "base_uri": "https://localhost:8080/"
        },
        "id": "e9Fa2hEYV6mY",
        "outputId": "47b30d8e-9ff1-460d-e92d-a602570a63ae"
      },
      "outputs": [
        {
          "output_type": "stream",
          "name": "stdout",
          "text": [
            "Solusi dari persamaan non linier 3 + x3 - x = 4, maka fungsi f(x) = 0 yaitu: 1.3247177600860596\n"
          ]
        }
      ],
      "source": [
        "#Persamaan Non Linier\n",
        "#3 + x3 - x = 4\n",
        "\n",
        "import math\n",
        "def persamaan_non_linier(f, a, b, total):\n",
        "    fa = f(a)\n",
        "    fb = f(b)\n",
        "\n",
        "    if fa * fb > 0:\n",
        "        raise ValueError(\"Melebihi batas  interval.\")\n",
        "\n",
        "    while abs(b - a) > tol:\n",
        "        c = (a + b) / 2\n",
        "        fc = f(c)\n",
        "\n",
        "        if fc * fa > 0:\n",
        "            a = c\n",
        "        else:\n",
        "            b = c\n",
        "\n",
        "    return c\n",
        "\n",
        "def f(x):\n",
        "    return 3 + x**3 - x - 4\n",
        "\n",
        "a = -1\n",
        "b = 2\n",
        "total = 1e-6\n",
        "\n",
        "batas = persamaan_non_linier(f, a, b, total)\n",
        "print(\"Solusi dari persamaan non linier 3 + x3 - x = 4, maka fungsi f(x) = 0 yaitu:\", batas)\n",
        "\n"
      ]
    },
    {
      "cell_type": "code",
      "source": [],
      "metadata": {
        "id": "JiJ6MOnrXiwM"
      },
      "execution_count": null,
      "outputs": []
    }
  ]
}